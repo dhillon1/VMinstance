{
  "nbformat": 4,
  "nbformat_minor": 0,
  "metadata": {
    "colab": {
      "name": "Mathoperations.ipynb",
      "provenance": []
    },
    "kernelspec": {
      "name": "python3",
      "display_name": "Python 3"
    }
  },
  "cells": [
    {
      "cell_type": "code",
      "metadata": {
        "colab": {
          "base_uri": "https://localhost:8080/"
        },
        "id": "tS7wAtoBw4gB",
        "outputId": "ce27bf55-ab60-4f9f-ca06-0f100a2b3d20"
      },
      "source": [
        "first_number  = int(input(\"Enter first number : \"))\n",
        "second_number = int(input(\"Enter second number : \"))\n",
        "\n",
        "def math(first, second):\n",
        "   \n",
        "   add(first,second)\n",
        "   subtract(first,second)\n",
        "   multiply(first,second)\n",
        "   divide(first,second)\n",
        "\n",
        "def add(first,second):\n",
        "  addition = first + second\n",
        "  print(\"Addition of first number and second number is {} \".format(addition))\n",
        "\n",
        "def subtract(first,second):\n",
        "  substraction = first - second\n",
        "  print(\"Substraction of second number from first number is {} \".format(substraction))\n",
        "\n",
        "\n",
        "def multiply(first,second):\n",
        "  multiplication = first * second\n",
        "  print(\"Multiplication of first number and second number is {} \".format(multiplication))\n",
        "\n",
        "def divide(first,second):\n",
        "  dividation = first / second\n",
        "  print(\"Dividation of first number by second number is {} \".format(dividation))\n",
        "\n",
        "math(first_number,second_number)\n"
      ],
      "execution_count": 10,
      "outputs": [
        {
          "output_type": "stream",
          "text": [
            "Enter first number : 10\n",
            "Enter second number : 10\n",
            "Addition of first number and second number is 20 \n",
            "Substraction of second number from first number is 0 \n",
            "Multiplication of first number and second number is 100 \n",
            "Dividation of first number by second number is 1.0 \n"
          ],
          "name": "stdout"
        }
      ]
    }
  ]
}